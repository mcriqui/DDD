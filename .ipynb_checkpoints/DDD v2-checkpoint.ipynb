{
 "metadata": {
  "name": "",
  "signature": "sha256:18152ba97b2a2403519465807753793b0cb078bb9b9409914cdd6945f788c821"
 },
 "nbformat": 3,
 "nbformat_minor": 0,
 "worksheets": []
}