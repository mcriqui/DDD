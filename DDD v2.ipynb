{
 "metadata": {
  "name": "",
  "signature": "sha256:9270231dfa8f7ada631a507f9325f5e24491dab02b54f16e5b8183c44473b156"
 },
 "nbformat": 3,
 "nbformat_minor": 0,
 "worksheets": [
  {
   "cells": [
    {
     "cell_type": "code",
     "collapsed": false,
     "input": [
      "with open('test.csv', 'r') as original_file:\n",
      "    episodes = original_file.read().split('\\n')\n",
      "    episodes_numbers_list = []\n",
      "    titles_list = []\n",
      "    restaurants_list = []\n",
      "    cities_list = []\n",
      "    states_list = []\n",
      "    dates_list = []\n",
      "    for index, episode in enumerate(episodes):\n",
      "        episodes[index] = episodes[index].split(',')\n",
      "        episodes_numbers_list.append(episodes[index][0])\n",
      "        titles_list.append(episodes[index][1])\n",
      "        restaurants_list.append(episodes[index][2])\n",
      "        cities_list.append(episodes[index][3])\n",
      "        states_list.append(episodes[index][4])\n",
      "        dates_list.append(episodes[index][5])\n",
      "    print dates_list"
     ],
     "language": "python",
     "metadata": {},
     "outputs": [
      {
       "output_type": "stream",
       "stream": "stdout",
       "text": [
        "['04/23/07', '04/23/07', '04/23/07', '04/30/07', '04/30/07', '04/30/07', '05/07/07', '05/07/07', '05/07/07', '05/21/07', '05/21/07', '05/21/07', '05/28/07', '05/28/07', '05/28/07', '06/04/07', '06/04/07', '06/04/07', '06/11/07', '06/11/07', '06/11/07', '06/18/07', '06/18/07', '06/18/07', '07/09/07', '07/09/07', '07/09/07', '07/16/07', '07/16/07', '07/16/07', '07/23/07', '07/23/07', '07/23/07', '07/30/07', '07/30/07', '07/30/07', '07/30/07']\n"
       ]
      }
     ],
     "prompt_number": 31
    },
    {
     "cell_type": "code",
     "collapsed": false,
     "input": [
      "new_list = []"
     ],
     "language": "python",
     "metadata": {},
     "outputs": [],
     "prompt_number": 32
    },
    {
     "cell_type": "code",
     "collapsed": false,
     "input": [
      "with open('test.csv', 'r') as original_file:\n",
      "    episodes = original_file.read().split('\\n')\n",
      "    for index, episode in enumerate(episodes):\n",
      "        episodes[index] = episodes[index].split(',')\n",
      "        new_list.append(episodes[index][2])\n",
      "        "
     ],
     "language": "python",
     "metadata": {},
     "outputs": [],
     "prompt_number": 33
    },
    {
     "cell_type": "code",
     "collapsed": false,
     "input": [
      "print new_list"
     ],
     "language": "python",
     "metadata": {},
     "outputs": [
      {
       "output_type": "stream",
       "stream": "stdout",
       "text": [
        "[\"'Mac & Ernie''s'\", \"'Brint''s Diner'\", \"'Mad Greek''s Diner'\", 'Four Kegs Sports Pub', 'Hullabaloo Diner', 'Pizza Palace', 'The Penguin', \"'Patrick''s Roadhouse'\", 'Frosted Mug', 'The Coffee Cup', \"'Frank''s Diner'\", 'Gaffey Street Diner', 'Louie Mueller BBQ', 'Baby Blues BBQ', 'Barbecue King Drive-In', 'Eveready Diner', \"'Leo''s BBQ'\", 'A1 Diner', 'Triple XXX Restaurant', \"'Hackney''s'\", 'Squeeze Inn', 'Red Arrow Diner', \"'Hank''s Creekside Restaurant'\", \"'Voula''s Offshore Caf\\xc3\\xa9'\", 'Southside Soda Shop and Diner', \"'Taylor''s Automatic Refresher'\", 'Byways Caf\\xc3\\xa9', 'Big Star Diner', \"'Harold''s Caf\\xc3\\xa9'\", \"'Mo Gridder''s BBQ'\", \"'Kelly''s Diner'\", 'Bay Way Diner', 'Beacon Drive-In', \"'Rosie''s Diner'\", 'Dari-ette Drive-In', 'The Russian River Pub', \"'Al''s Breakfast'\"]\n"
       ]
      }
     ],
     "prompt_number": 34
    },
    {
     "cell_type": "code",
     "collapsed": false,
     "input": [
      "state_lists = []"
     ],
     "language": "python",
     "metadata": {},
     "outputs": [],
     "prompt_number": 40
    },
    {
     "cell_type": "code",
     "collapsed": false,
     "input": [
      "with open('test.csv', 'r') as original_file:\n",
      "    episodes = original_file.read().split('\\n')\n",
      "    for index, episode in enumerate(episodes):\n",
      "        episodes[index] = episodes[index].split(',')\n",
      "        state_lists.append(episodes[index][4].replace('\"', '').strip(' '))"
     ],
     "language": "python",
     "metadata": {},
     "outputs": [],
     "prompt_number": 41
    },
    {
     "cell_type": "code",
     "collapsed": false,
     "input": [
      "print states_list"
     ],
     "language": "python",
     "metadata": {},
     "outputs": [
      {
       "output_type": "stream",
       "stream": "stdout",
       "text": [
        "[' Texas\"', ' Kansas\"', ' California\"', ' Nevada\"', ' Texas\"', ' Tennessee\"', ' North Carolina\"', ' California\"', ' Illinois\"', ' Nevada\"', ' Wisconsin\"', ' California\"', ' Texas\"', ' California\"', ' North Carolina\"', ' New York\"', ' Oklahoma\"', ' Maine\"', ' Indiana\"', ' Illinois\"', ' California\"', ' New Hampshire\"', ' California\"', ' Washington\"', ' Indiana\"', ' California\"', ' Oregon\"', ' Washington\"', ' South Carolina\"', ' New York\"', ' Massachusetts\"', ' New Jersey\"', ' South Carolina\"', ' Michigan\"', ' Minnesota\"', ' California\"', ' Minnesota\"']\n"
       ]
      }
     ],
     "prompt_number": 42
    },
    {
     "cell_type": "code",
     "collapsed": false,
     "input": [
      "new = []"
     ],
     "language": "python",
     "metadata": {},
     "outputs": [],
     "prompt_number": 43
    },
    {
     "cell_type": "code",
     "collapsed": false,
     "input": [
      "with open('test.csv', 'r') as original_file:\n",
      "    episodes = original_file.read().split('\\n')\n",
      "    for index, episode in enumerate(episodes):\n",
      "        episodes[index] = episodes[index].split(',')\n",
      "        new.append(episodes[index][4].replace('\"', '').strip(' '))"
     ],
     "language": "python",
     "metadata": {},
     "outputs": [],
     "prompt_number": 44
    },
    {
     "cell_type": "code",
     "collapsed": false,
     "input": [
      "print new"
     ],
     "language": "python",
     "metadata": {},
     "outputs": [
      {
       "output_type": "stream",
       "stream": "stdout",
       "text": [
        "['Texas', 'Kansas', 'California', 'Nevada', 'Texas', 'Tennessee', 'North Carolina', 'California', 'Illinois', 'Nevada', 'Wisconsin', 'California', 'Texas', 'California', 'North Carolina', 'New York', 'Oklahoma', 'Maine', 'Indiana', 'Illinois', 'California', 'New Hampshire', 'California', 'Washington', 'Indiana', 'California', 'Oregon', 'Washington', 'South Carolina', 'New York', 'Massachusetts', 'New Jersey', 'South Carolina', 'Michigan', 'Minnesota', 'California', 'Minnesota']\n"
       ]
      }
     ],
     "prompt_number": 45
    },
    {
     "cell_type": "code",
     "collapsed": false,
     "input": [],
     "language": "python",
     "metadata": {},
     "outputs": []
    }
   ],
   "metadata": {}
  }
 ]
}